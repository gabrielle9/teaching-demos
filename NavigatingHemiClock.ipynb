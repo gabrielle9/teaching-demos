{
 "cells": [
  {
   "cell_type": "markdown",
   "id": "23e0ac98-594b-4dba-a62d-4388895916ed",
   "metadata": {},
   "source": [
    "# Navigating the Hemibrain connectome\n",
    "*created by Gabrielle J. Gutierrez, PhD for CAMP 2023 Pune, India*\n",
    "\n",
    "This notebook is designed to introduce students to some basic functionality of the Neuprint python API and to the nuances of the Hemibrain data for the *Drosophila* brain connectome. Many of the examples will feature the circadian clock neurons analyzed in: Orie T Shafer, Gabrielle J Gutierrez, Kimberly Li, Amber Mildenhall, Daphna Spira, Jonathan Marty, Aurel A Lazar, Maria de la Paz Fernandez (2022) Connectomic analysis of the Drosophila lateral neuron clock cells reveals the synaptic basis of functional pacemaker classes *eLife 11:e79139* https://doi.org/10.7554/eLife.79139\n",
    "\n",
    "The documentation for many of the functions that we'll be using can be found here: https://connectome-neuprint.github.io/neuprint-python/docs/queries.html."
   ]
  },
  {
   "cell_type": "markdown",
   "id": "76250729-5e07-4a45-8ed5-070f939c55cf",
   "metadata": {
    "tags": []
   },
   "source": [
    "## Getting set up  \n",
    "Start by entering your client info here to start a neuprint session. We'll also import the most important packages we'll need. "
   ]
  },
  {
   "cell_type": "code",
   "execution_count": null,
   "id": "81acd629-a906-482e-a998-d5024c95719d",
   "metadata": {},
   "outputs": [],
   "source": [
    "from neuprint import Client\n",
    "c = Client('neuprint.janelia.org', dataset='hemibrain:v1.2.1', token='')\n",
    "# insert personal token above. see https://connectome-neuprint.github.io/neuprint-python/docs/quickstart.html#client-and-authorization-token for instructions\n",
    "c.fetch_version()"
   ]
  },
  {
   "cell_type": "code",
   "execution_count": null,
   "id": "c36a9500-2b45-41df-987c-21f79b53b719",
   "metadata": {},
   "outputs": [],
   "source": [
    "# import important stuff here\n",
    "import numpy as np\n",
    "import pandas as pd\n",
    "import matplotlib"
   ]
  },
  {
   "cell_type": "markdown",
   "id": "e6b3a931-0074-4d28-bd31-a73f6a41ee0b",
   "metadata": {},
   "source": [
    "Every neuron, or piece of neuron, has its own body ID. Below is a manually created list of the body IDs for the labeled and annotated clock neurons in the Hemibrain. We'll use these body IDs to access information about these neurons from neuprint."
   ]
  },
  {
   "cell_type": "code",
   "execution_count": null,
   "id": "005784f0-4cbb-4f22-8aca-ba16d4b2f8b3",
   "metadata": {},
   "outputs": [],
   "source": [
    "clock_bodyIds = [2068801704, 1664980698, 2007068523, 1975347348, 5813056917, 5813021192, 5813069648, 511051477,\n",
    "                  296544364, 448260940, 5813064789, 356818551, 480029788, 450034902, 546977514, 264083994, 5813022274,\n",
    "                  5813010153, 324846570, 325529237, 387944118, 387166379, 386834269, 5813071319, 1884625521,\n",
    "                  2065745704, 5813001741, 5813026773]"
   ]
  },
  {
   "cell_type": "markdown",
   "id": "bbce866b-68e4-476b-9aef-90755f744ee6",
   "metadata": {},
   "source": [
    "## Fetch neurons\n",
    "We'll start by fetching summary information about each of these neurons using the fetch_neurons function. This function takes some neuron criteria as its input and returns two dataframes containing summary information about the individual neurons that match the criteria and information about the number of synaptic sites on the neurons as well as which ROI those sites are located in. "
   ]
  },
  {
   "cell_type": "code",
   "execution_count": null,
   "id": "6cc2dbe7-5705-4ce5-adda-6f9060bcc7f0",
   "metadata": {},
   "outputs": [],
   "source": [
    "from neuprint import fetch_neurons\n",
    "\n",
    "neuron_df, roi_counts_df = fetch_neurons(clock_bodyIds)"
   ]
  },
  {
   "cell_type": "markdown",
   "id": "697b4c36-7e76-4471-b954-5d7e4a3ae236",
   "metadata": {
    "tags": []
   },
   "source": [
    "Display each of the dataframes below and look at the information in their columns. In addition to a bodyId, each neuron has a type and an instance. There are some objects that have a bodyId but no type or instance. These tend to be fragments of neurons that remain unidentified in the Hemibrain data.\n",
    "\n",
    "The pre and post columns indicate the numbers of presynaptic and postsynaptic sites that are attributed to the neuron. The presynaptic sites are where the neuron would be releasing neurotransmitters from. The postsynaptic sites on the neuron are where it is receiving inputs. The downstream and upstream columns convey similar information; however, they indicate the number of sites that are on the other side of the pre or postsynaptic sites of the neuron (I think!). There are often multiple post sites for every pre site, but take note that not every pre site is connected to a post site and vice versa.\n",
    "\n",
    "Mito is the number of mitochondria that were counted in the neuron. CellBodyFiber is the ... \n",
    "InputRois, outputRois, and roiInfo contain information about the ROIs in which the synaptic sites of this neuron are located. Much of this information is also contained in the roi_counts_df dataframe.\n",
    "\n",
    "There is also information about the status of the data in the Hemibrain, for example, the extent to which the neuron has been traced from the EM reconstruction. "
   ]
  },
  {
   "cell_type": "code",
   "execution_count": null,
   "id": "eaf86444-1d2e-41f1-872d-6332009ca119",
   "metadata": {
    "tags": []
   },
   "outputs": [],
   "source": [
    "display(neuron_df)"
   ]
  },
  {
   "cell_type": "code",
   "execution_count": null,
   "id": "f78f6334-4eba-43c9-bf3c-5839360e0bc0",
   "metadata": {
    "tags": []
   },
   "outputs": [],
   "source": [
    "roi_counts_df"
   ]
  },
  {
   "cell_type": "markdown",
   "id": "19b46a20-5901-4923-bde2-d12af6bb5dd2",
   "metadata": {
    "tags": []
   },
   "source": [
    "We fetched a bunch of neurons based on a list of body IDs but what if we want to include more criteria so that we can return a more targeted set of neurons. To do this, we use NeuronCriteria. In the example below, I specify a set of criteria based on cellBodyFiber and I provide that criteria to fetch_neurons to retrieve the desired neurons. We can add other criteria to this. Try including cell type along with cellBodyFiber. "
   ]
  },
  {
   "cell_type": "code",
   "execution_count": null,
   "id": "a52cbb23-9fbb-4f39-9ae7-10c2f1f05ad6",
   "metadata": {},
   "outputs": [],
   "source": [
    "from neuprint import NeuronCriteria as NC\n",
    "\n",
    "criteria = NC(cellBodyFiber='PDM10')\n",
    "#criteria = NC(cellBodyFiber='PDM10', type='DN1a')"
   ]
  },
  {
   "cell_type": "code",
   "execution_count": null,
   "id": "f290f72a-7f23-49e4-b518-5b07879f7070",
   "metadata": {},
   "outputs": [],
   "source": [
    "neuron_df, roi_counts_df = fetch_neurons(criteria)\n",
    "neuron_df"
   ]
  },
  {
   "cell_type": "markdown",
   "id": "5806337a-441f-49a5-89b4-f36b33c4977f",
   "metadata": {
    "tags": []
   },
   "source": [
    "## Fetch skeletons\n",
    "There is extensive information available about the reconstructions of the neurons in the Hemibrain. Below, I plot out the skeleton of a neuron using fetch_skeleton. This function returns all the line segments that compose a given neuron."
   ]
  },
  {
   "cell_type": "code",
   "execution_count": null,
   "id": "3bb3718b-985b-43fd-b90d-1e4a57aba268",
   "metadata": {},
   "outputs": [],
   "source": [
    "from neuprint import fetch_skeleton\n",
    "\n",
    "s = fetch_skeleton(clock_bodyIds[13])\n",
    "s"
   ]
  },
  {
   "cell_type": "code",
   "execution_count": null,
   "id": "56fd01fc-97a2-403c-b039-10aa3f5ef43b",
   "metadata": {},
   "outputs": [],
   "source": [
    "# Join parent/child nodes for plotting as line segments below.\n",
    "# (Using each row's 'link' (parent) ID, find the row with matching rowId.)\n",
    "segments = s.merge(s, 'inner', left_on=['link'], right_on=['rowId'], suffixes=['_child', '_parent'])"
   ]
  },
  {
   "cell_type": "code",
   "execution_count": null,
   "id": "e9430d01-8835-48a5-b755-9f539e4bb273",
   "metadata": {},
   "outputs": [],
   "source": [
    "import bokeh\n",
    "import bokeh.palettes\n",
    "from bokeh.plotting import figure, show, output_notebook\n",
    "output_notebook()"
   ]
  },
  {
   "cell_type": "code",
   "execution_count": null,
   "id": "cedbf05a-da9d-4e4f-94cb-e777149502fb",
   "metadata": {},
   "outputs": [],
   "source": [
    "p = figure()\n",
    "p.y_range.flipped = True\n",
    "\n",
    "# Plot skeleton segments (in 2D)\n",
    "p.segment(x0='x_child', x1='x_parent',\n",
    "          y0='z_child', y1='z_parent',source=segments)\n",
    "\n",
    "show(p)"
   ]
  },
  {
   "cell_type": "markdown",
   "id": "0cc81b6f-e672-462e-9add-422b3e431daf",
   "metadata": {},
   "source": [
    "We'll return to plotting neural skeletons and plotting synaptic sites on them later on. "
   ]
  },
  {
   "cell_type": "markdown",
   "id": "dfe0aefa-314f-462f-af8b-b9696d9354a3",
   "metadata": {},
   "source": [
    "## Fetch synapses\n",
    "There are multiple ways to obtain information about the synapses in the Hemibrain data. The most general way is with the fetch_synapses function which returns spatial information about the synaptic sites that are associated with the criteria you provide. This function takes neuron criteria and optionally takes synapse criteria as well. In the example below, I retrieve the synapse information for an example clock neuron using synapse criteria that ensure that only synapses within primary ROIs are retrieved. This prevents me from receiving the same synaptic sites multiple times if it is nested within a non-primary ROI. Try toggling the synapse criteria below to see what I mean."
   ]
  },
  {
   "cell_type": "code",
   "execution_count": null,
   "id": "dc69676b-05b3-4eed-90ce-0f396c91d0b6",
   "metadata": {},
   "outputs": [],
   "source": [
    "from neuprint import fetch_synapses, NeuronCriteria as NC, SynapseCriteria as SC\n",
    "\n",
    "# returns each synapse once and provides primary ROI where synapse is located\n",
    "syn_sites = fetch_synapses(clock_bodyIds[13], SC(primary_only=True))\n",
    "syn_sites"
   ]
  },
  {
   "cell_type": "markdown",
   "id": "05a4d376-571b-4e30-b6a3-16388703de8d",
   "metadata": {},
   "source": [
    "To visualize the synaptic sites, I create a colormap below that assigns pre and postsynaptic sites to distinct colors. This colormapping is then added onto the dataframe containing the synaptic sites."
   ]
  },
  {
   "cell_type": "code",
   "execution_count": null,
   "id": "8d6fd6e7-92e1-432f-82b9-5f28915b12b7",
   "metadata": {},
   "outputs": [],
   "source": [
    "# create a colormap so that pre and post each get a different color\n",
    "colormap = dict(zip(syn_sites['type'].value_counts().index, bokeh.palettes.Dark2[5]))\n",
    "\n",
    "# add the color information to the dataframe\n",
    "syn_sites['color'] = syn_sites['type'].map(colormap)"
   ]
  },
  {
   "cell_type": "code",
   "execution_count": null,
   "id": "7bdb14ee-636e-431b-ae32-ab4f06081a54",
   "metadata": {},
   "outputs": [],
   "source": [
    "syn_sites"
   ]
  },
  {
   "cell_type": "markdown",
   "id": "5b6b6397-945b-453f-9699-be26a12d948c",
   "metadata": {},
   "source": [
    "Plot the skeleton from the previous section again and this time add the synapses using scatter."
   ]
  },
  {
   "cell_type": "code",
   "execution_count": null,
   "id": "e16713ff-1abe-4bca-a4e1-a4a65e14842f",
   "metadata": {},
   "outputs": [],
   "source": [
    "p = figure()\n",
    "p.y_range.flipped = True\n",
    "\n",
    "# Plot skeleton segments (in 2D) in the x-z plane\n",
    "p.segment(x0='x_child', x1='x_parent',\n",
    "          y0='z_child', y1='z_parent',source=segments)\n",
    "\n",
    "# Also plot the synapses from the above example in the x-z plane\n",
    "p.scatter(syn_sites['x'], syn_sites['z'], color=syn_sites['color'])\n",
    "\n",
    "show(p)"
   ]
  },
  {
   "cell_type": "markdown",
   "id": "31e843d1-a6a2-4dd8-a047-a8f3996439d2",
   "metadata": {},
   "source": [
    "## Fetch connections\n",
    "If we want information about how those synapses actually connect neurons in the Hemibrain, there are multiple options depending on exactly how much detail we want. \n",
    "\n",
    "If we want detailed information about the synapses that includes the pre-synaptic and post-synaptic neurons, the locations of these synaptic sites, the ROIs they are in, and the confidence score for each connection, then we would use fetch_synapse_connections.\n",
    "\n",
    "We have to specify a source and a target. These can be a single neuron or a group of neurons and can be specified using neuron criteria, otherwise we can use \"None\" to avoid giving criteria for either the source or target. I don't recommending using None for both source and target because the function will attempt to return all of the synaptic connections to and from every neuron in the Hemibrain and that will likely time out. Below, I fetch all of the synapse connections to one of the clock neurons."
   ]
  },
  {
   "cell_type": "code",
   "execution_count": null,
   "id": "6710361b-845c-4281-a463-52ad1f0bdcd3",
   "metadata": {},
   "outputs": [],
   "source": [
    "from neuprint import fetch_synapse_connections\n",
    "\n",
    "conn_sites = fetch_synapse_connections(None, clock_bodyIds[13], SC(primary_only=True))"
   ]
  },
  {
   "cell_type": "code",
   "execution_count": null,
   "id": "9476c6ee-1160-4249-a62f-bb0a43c63265",
   "metadata": {},
   "outputs": [],
   "source": [
    "conn_sites.sort_values(by='x_pre')"
   ]
  },
  {
   "cell_type": "markdown",
   "id": "ab0d727a-2eb0-4fb7-b03b-d8df90e04e13",
   "metadata": {},
   "source": [
    "Suppose we want more aggregated information about the number of synaptic connections between neurons. For this, we would use fetch_simple_connections. It returns a column of weights which has the numbers of synaptic sites between pairs of connected neurons. "
   ]
  },
  {
   "cell_type": "code",
   "execution_count": null,
   "id": "fe1b5f12-9e95-48c8-a0b8-0b30aa011f4f",
   "metadata": {},
   "outputs": [],
   "source": [
    "from neuprint import fetch_simple_connections\n",
    "\n",
    "fetch_simple_connections(None,clock_bodyIds[13])"
   ]
  },
  {
   "cell_type": "markdown",
   "id": "39aab1dd-8831-4a27-a683-d0cc7e2a0c6c",
   "metadata": {},
   "source": [
    "Now we will get all of the connections from clock neurons that are in the PDM10 cellBodyFiber to the LNds. We do this by setting neuron criteria."
   ]
  },
  {
   "cell_type": "code",
   "execution_count": null,
   "id": "e5c87d55-6f69-4e91-8eec-2bfcc7f2dea2",
   "metadata": {},
   "outputs": [],
   "source": [
    "pre_criteria = NC(cellBodyFiber='PDM10',bodyId=clock_bodyIds)\n",
    "post_criteria = NC(type='LNd')\n",
    "\n",
    "conns = fetch_simple_connections(pre_criteria,post_criteria)\n",
    "conns"
   ]
  },
  {
   "cell_type": "markdown",
   "id": "6eb76cee-2bbf-4ec1-875c-08076e078fbe",
   "metadata": {},
   "source": [
    "There is also fetch_adjacencies which returns more detailed info. I prefer fetch_simple_connections but fetch_adjacencies performs better when your criteria encompass a large number of neurons."
   ]
  },
  {
   "cell_type": "code",
   "execution_count": null,
   "id": "33104fbc-725d-4448-8495-6f423309bf45",
   "metadata": {},
   "outputs": [],
   "source": [
    "from neuprint import fetch_adjacencies\n",
    "\n",
    "neuron_df, conn_df = fetch_adjacencies(pre_criteria,post_criteria)"
   ]
  },
  {
   "cell_type": "code",
   "execution_count": null,
   "id": "5e54381b-5e7b-4117-aa27-bcc3f25fb543",
   "metadata": {},
   "outputs": [],
   "source": [
    "conn_df.sort_values(by='bodyId_post')"
   ]
  },
  {
   "cell_type": "markdown",
   "id": "d2baceb2-e6d2-466c-ba7f-4dd3b6af5228",
   "metadata": {},
   "source": [
    "The weight is the sum of synapse connections between a pair of neurons. By default, it is a count of the number of post sites on the postsynaptic neuron of the pair. \n",
    "\n",
    "We can make a connection matrix using connection_table_to_matrix. You pass it the dataframe with connections, which feature to use for the rows and columns of the matrix, and what you'd like the data to be sorted by."
   ]
  },
  {
   "cell_type": "code",
   "execution_count": null,
   "id": "8818c0b5-035f-498c-bbf3-15735af313b5",
   "metadata": {},
   "outputs": [],
   "source": [
    "from neuprint.utils import connection_table_to_matrix\n",
    "\n",
    "matrix = connection_table_to_matrix(conns, 'bodyId', sort_by='type')\n",
    "matrix"
   ]
  },
  {
   "cell_type": "code",
   "execution_count": null,
   "id": "93bc9c22-a07b-4688-88d8-75bf1805a31b",
   "metadata": {},
   "outputs": [],
   "source": [
    "import numpy as np\n",
    "import matplotlib.pyplot as plt\n",
    "import seaborn\n",
    "\n",
    "fig = plt.figure(figsize=(16, 12))\n",
    "\n",
    "# plot connectivity heatmap\n",
    "seaborn.heatmap(matrix, vmin=0, annot=True, cmap=seaborn.light_palette(\"purple\", as_cmap=True), cbar_kws={'label': 'connection strength'})\n",
    "plt.title('Connectivity matrix')\n",
    "plt.xlabel('postsynaptic')\n",
    "plt.ylabel('presynaptic')"
   ]
  },
  {
   "cell_type": "markdown",
   "id": "4bdbe094-e0b3-44f0-808d-f1ec6ddcbfb1",
   "metadata": {},
   "source": [
    "## Challenge #1\n",
    "Create a connectivity matrix plot for all of the clock neuron types. Each row and column of the matrix should list the clock cell types and each entry in the matrix should be the combined weights from one cell type to another."
   ]
  },
  {
   "cell_type": "code",
   "execution_count": null,
   "id": "b1431b9b-ce87-47fc-b2c1-e758676f1d0d",
   "metadata": {},
   "outputs": [],
   "source": []
  },
  {
   "cell_type": "markdown",
   "id": "786ce340-78b1-4b0f-8675-b9ea2eb318d7",
   "metadata": {},
   "source": [
    "## Challenge #2\n",
    "Plot the skeleton of a neuron and the synaptic sites from its top 3 strongest inputs (i.e. the 3 neurons with the most presynaptic weights to it). Use different colors for the 3 different inputs. "
   ]
  },
  {
   "cell_type": "code",
   "execution_count": null,
   "id": "ca2a0e8b-e525-4fb7-9424-f7c2af12d09d",
   "metadata": {},
   "outputs": [],
   "source": []
  },
  {
   "cell_type": "markdown",
   "id": "84baba53-9bba-4885-a290-31db43028537",
   "metadata": {},
   "source": [
    "## Challenge #3\n",
    "The 4 sLNv neurons comprise the morning (M) group of neurons and the 6 LNds along with the 5th sLNv comprise the evening (E) group. Create and plot a connectivity matrix that shows the connections from the M and E cells to all the clock neurons."
   ]
  },
  {
   "cell_type": "code",
   "execution_count": null,
   "id": "5d6576a9-2d8e-462a-8421-fab6d0b69849",
   "metadata": {},
   "outputs": [],
   "source": []
  },
  {
   "cell_type": "markdown",
   "id": "274c4899-cc73-4318-846d-7a4a52f6732c",
   "metadata": {},
   "source": [
    "## Challenge #4\n",
    "Plot the skeletons of 2 connected neurons together on the same plot along with their synaptic connections."
   ]
  },
  {
   "cell_type": "code",
   "execution_count": null,
   "id": "28178d46-0b47-4a18-9074-7bff41d3a411",
   "metadata": {},
   "outputs": [],
   "source": []
  },
  {
   "cell_type": "markdown",
   "id": "73c13e34-903d-4172-90ab-f7361c0c19c9",
   "metadata": {
    "jp-MarkdownHeadingCollapsed": true,
    "tags": []
   },
   "source": [
    "## possible solutions (no peeking!)"
   ]
  },
  {
   "cell_type": "markdown",
   "id": "f97ac788-3573-412e-80a3-cbfb0a3a9301",
   "metadata": {
    "jp-MarkdownHeadingCollapsed": true,
    "tags": []
   },
   "source": [
    "### a possible solution for challenge #1"
   ]
  },
  {
   "cell_type": "code",
   "execution_count": null,
   "id": "628e981b-6eab-4807-83e6-530b3e8d1cbf",
   "metadata": {},
   "outputs": [],
   "source": [
    "conns = fetch_simple_connections(clock_bodyIds,clock_bodyIds)"
   ]
  },
  {
   "cell_type": "code",
   "execution_count": null,
   "id": "0c88d0a4-d4d2-43e2-8e0c-00f07f946b81",
   "metadata": {},
   "outputs": [],
   "source": [
    "matrix = connection_table_to_matrix(conns, 'type', sort_by='type')\n",
    "matrix"
   ]
  },
  {
   "cell_type": "code",
   "execution_count": null,
   "id": "93b6ffc5-2161-4b3f-aa79-dc04a0849f46",
   "metadata": {},
   "outputs": [],
   "source": [
    "fig = plt.figure(figsize=(16, 12))\n",
    "\n",
    "# plot connectivity heatmap\n",
    "seaborn.heatmap(matrix, vmin=0, annot=True, cmap=seaborn.light_palette(\"purple\", as_cmap=True), cbar_kws={'label': 'connection strength'})\n",
    "plt.title('Connectivity matrix')\n",
    "plt.xlabel('postsynaptic')\n",
    "plt.ylabel('presynaptic')"
   ]
  },
  {
   "cell_type": "markdown",
   "id": "0a040325-3206-47e7-9d8c-201f58a26b3b",
   "metadata": {
    "jp-MarkdownHeadingCollapsed": true,
    "tags": []
   },
   "source": [
    "### a possible solution for challenge #2"
   ]
  },
  {
   "cell_type": "code",
   "execution_count": null,
   "id": "bbd08a8a-093d-4e37-b82d-9f6329e6a921",
   "metadata": {},
   "outputs": [],
   "source": [
    "conns = fetch_simple_connections(None, clock_bodyIds[13])\n",
    "\n",
    "conns = conns.head(3)"
   ]
  },
  {
   "cell_type": "code",
   "execution_count": null,
   "id": "162e3f66-83b4-4f6d-9b7b-6715765b5177",
   "metadata": {},
   "outputs": [],
   "source": [
    "top3_inputs = conns['bodyId_pre']\n",
    "\n",
    "syn_sites = fetch_synapse_connections(top3_inputs, clock_bodyIds[13], SC(primary_only=True))"
   ]
  },
  {
   "cell_type": "code",
   "execution_count": null,
   "id": "bbb9e956-4c8d-4197-87c5-1fa44195f9d4",
   "metadata": {},
   "outputs": [],
   "source": [
    "# create a colormap so that pre and post each get a different color\n",
    "colormap = dict(zip(syn_sites['bodyId_pre'].value_counts().index, bokeh.palettes.Dark2[5]))\n",
    "\n",
    "# add the color information to the dataframe\n",
    "syn_sites['color'] = syn_sites['bodyId_pre'].map(colormap)"
   ]
  },
  {
   "cell_type": "code",
   "execution_count": null,
   "id": "268f0136-9ff9-4f30-98f4-08def50b9354",
   "metadata": {},
   "outputs": [],
   "source": [
    "s = fetch_skeleton(clock_bodyIds[13])\n",
    "\n",
    "# Join parent/child nodes for plotting as line segments below.\n",
    "# (Using each row's 'link' (parent) ID, find the row with matching rowId.)\n",
    "segments = s.merge(s, 'inner', left_on=['link'], right_on=['rowId'], suffixes=['_child', '_parent'])"
   ]
  },
  {
   "cell_type": "code",
   "execution_count": null,
   "id": "b14a9e13-2484-46a9-b033-e70456d003d0",
   "metadata": {},
   "outputs": [],
   "source": [
    "p = figure()\n",
    "p.y_range.flipped = True\n",
    "\n",
    "# Plot skeleton segments (in 2D) in the x-z plane\n",
    "p.segment(x0='x_child', x1='x_parent',\n",
    "          y0='z_child', y1='z_parent',source=segments)\n",
    "\n",
    "# Also plot the synapses from the above example in the x-z plane\n",
    "p.scatter(syn_sites['x_post'], syn_sites['z_post'], color=syn_sites['color'])\n",
    "\n",
    "show(p)"
   ]
  },
  {
   "cell_type": "markdown",
   "id": "1777b0ef-0e3b-4b7c-84f2-4ab8818b714f",
   "metadata": {
    "jp-MarkdownHeadingCollapsed": true,
    "tags": []
   },
   "source": [
    "### a possible solution for challenge #3"
   ]
  },
  {
   "cell_type": "code",
   "execution_count": null,
   "id": "155955ae-36dd-4363-8e97-4ba56b68a766",
   "metadata": {},
   "outputs": [],
   "source": [
    "sLNv_criteria = NC(type='s-LNv',bodyId=clock_bodyIds)\n",
    "sLNv_df, _ = fetch_neurons(sLNv_criteria)"
   ]
  },
  {
   "cell_type": "code",
   "execution_count": null,
   "id": "77775e7e-d2de-411e-a141-3d935b5243cb",
   "metadata": {},
   "outputs": [],
   "source": [
    "LNd_criteria = NC(type='LNd',bodyId=clock_bodyIds)\n",
    "LNd_df, _ = fetch_neurons(LNd_criteria)"
   ]
  },
  {
   "cell_type": "code",
   "execution_count": null,
   "id": "fb879e54-6021-4116-9ec4-bd58e6eaa103",
   "metadata": {},
   "outputs": [],
   "source": [
    "ME_df = pd.concat([sLNv_df,LNd_df])"
   ]
  },
  {
   "cell_type": "code",
   "execution_count": null,
   "id": "8a386fd6-a6f3-4eea-b97e-160325345c01",
   "metadata": {},
   "outputs": [],
   "source": [
    "conns = fetch_simple_connections(ME_df['bodyId'],clock_bodyIds)\n",
    "conns"
   ]
  },
  {
   "cell_type": "code",
   "execution_count": null,
   "id": "1d1e6712-e9d9-4b94-9b54-3a5f00fdab18",
   "metadata": {},
   "outputs": [],
   "source": [
    "matrix = connection_table_to_matrix(conns, 'bodyId', sort_by='type')\n",
    "matrix"
   ]
  },
  {
   "cell_type": "code",
   "execution_count": null,
   "id": "f1f0d23f-0802-48e4-a23f-448a3451c686",
   "metadata": {},
   "outputs": [],
   "source": [
    "fig = plt.figure(figsize=(16, 12))\n",
    "\n",
    "# plot connectivity heatmap\n",
    "seaborn.heatmap(matrix, vmin=0, annot=True, cmap=seaborn.light_palette(\"purple\", as_cmap=True), cbar_kws={'label': 'connection strength'})\n",
    "plt.title('Connectivity matrix')\n",
    "plt.xlabel('postsynaptic')\n",
    "plt.ylabel('presynaptic')"
   ]
  },
  {
   "cell_type": "markdown",
   "id": "66803cd5-2366-42b6-900f-52889efb90e1",
   "metadata": {
    "jp-MarkdownHeadingCollapsed": true,
    "tags": []
   },
   "source": [
    "### a possible solution for challenge #4"
   ]
  },
  {
   "cell_type": "code",
   "execution_count": null,
   "id": "feb3b88f-2c05-4a74-ac3f-e3d250edab88",
   "metadata": {},
   "outputs": [],
   "source": [
    "conn_sites = fetch_synapse_connections(NC(instance='5th s-LNv'), 5813069648, SC(primary_only=True))"
   ]
  },
  {
   "cell_type": "code",
   "execution_count": null,
   "id": "a15edf03-c3fe-41fa-8a9b-1870fab9d8a2",
   "metadata": {},
   "outputs": [],
   "source": [
    "s1 = fetch_skeleton(conn_sites['bodyId_pre'][0])\n",
    "# Join parent/child nodes for plotting as line segments below.\n",
    "# (Using each row's 'link' (parent) ID, find the row with matching rowId.)\n",
    "segments1 = s1.merge(s1, 'inner', left_on=['link'], right_on=['rowId'], suffixes=['_child', '_parent'])"
   ]
  },
  {
   "cell_type": "code",
   "execution_count": null,
   "id": "f0c7acb5-1a3f-4224-920e-f3c491bb24a5",
   "metadata": {},
   "outputs": [],
   "source": [
    "s2 = fetch_skeleton(5813069648)\n",
    "# Join parent/child nodes for plotting as line segments below.\n",
    "# (Using each row's 'link' (parent) ID, find the row with matching rowId.)\n",
    "segments2 = s2.merge(s2, 'inner', left_on=['link'], right_on=['rowId'], suffixes=['_child', '_parent'])"
   ]
  },
  {
   "cell_type": "code",
   "execution_count": null,
   "id": "d27669ba-e369-4f27-bd12-54fe63e1f95c",
   "metadata": {},
   "outputs": [],
   "source": [
    "p = figure()\n",
    "p.y_range.flipped = True\n",
    "\n",
    "# Plot skeleton segments (in 2D) in the x-z plane\n",
    "p.segment(x0='x_child', x1='x_parent',\n",
    "          y0='z_child', y1='z_parent',source=segments1)\n",
    "p.segment(x0='x_child', x1='x_parent',\n",
    "          y0='z_child', y1='z_parent',source=segments2, color='black')\n",
    "\n",
    "# Also plot the synapses from the above example in the x-z plane\n",
    "p.scatter(conn_sites['x_pre'], conn_sites['z_pre'], color='red')\n",
    "p.scatter(conn_sites['x_post'], conn_sites['z_post'], fill_color=None, hatch_color='green')\n",
    "\n",
    "show(p)"
   ]
  },
  {
   "cell_type": "markdown",
   "id": "546895e3-642c-4787-abae-b6742e718b3f",
   "metadata": {},
   "source": [
    "## Do your own thing\n",
    "Explore any neuron or cell type in the Hemibrain data. To obtain the bodyId(s) of the neurons you are interested in, try searching in NeuroNLP (https://hemibrain.neuronlp.fruitflybrain.org) or the Neuprint web interface (https://neuprint.janelia.org)."
   ]
  },
  {
   "cell_type": "code",
   "execution_count": null,
   "id": "bc0ce35a-05b7-4cae-af16-e6f900c24535",
   "metadata": {},
   "outputs": [],
   "source": []
  }
 ],
 "metadata": {
  "kernelspec": {
   "display_name": "Python 3 (ipykernel)",
   "language": "python",
   "name": "python3"
  },
  "language_info": {
   "codemirror_mode": {
    "name": "ipython",
    "version": 3
   },
   "file_extension": ".py",
   "mimetype": "text/x-python",
   "name": "python",
   "nbconvert_exporter": "python",
   "pygments_lexer": "ipython3",
   "version": "3.9.7"
  }
 },
 "nbformat": 4,
 "nbformat_minor": 5
}
